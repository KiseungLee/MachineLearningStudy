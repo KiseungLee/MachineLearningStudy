{
 "cells": [
  {
   "cell_type": "markdown",
   "metadata": {},
   "source": [
    "이 강의에선 몇가지 꿀팁들을 알려줌\n",
    "\n",
    "1. Learning Rate 의 초기설정\n",
    "2. Data Preprocessing 데이터 전처리\n",
    "3. Overfitting 너무 학습데이터에 착 붙어있게 되는 overfitting"
   ]
  },
  {
   "cell_type": "markdown",
   "metadata": {},
   "source": [
    "우선 Learning Rate에 대해 알아보자.\n",
    "\n",
    "Learning Rate를 잘못 설정하면 Gradient Descent 할때 구간 반복을 할수도 있고<br>\n",
    "너무 크다면 발산해버릴 수도 있음.<strong>(발산하는 경우를 Overshooting 이라고 부름)</strong><br>\n",
    "너무 작으면 학습에 시간이 너무 오래 걸릴수도 있음. 최적점을 못찾았는데 설정한 step수가 끝날 수 있음\n",
    "\n",
    "일단 결론적으로 learning rate를 정하는 정답은 당연히 없음. 실험을 계속 해봐야 함.<br>\n",
    "보통 초기값으론 0.01을 많이 주긴함."
   ]
  },
  {
   "cell_type": "markdown",
   "metadata": {},
   "source": [
    "다음으로 데이터 전처리임\n",
    "\n",
    "보통 데이터 간의 갭이 너무 클때 사용함. (사실 이 부분 설명 잘 못알아 들음)<br>\n",
    "데이터 간의 갭이 큰 얘들이 있으면 학습 도중 발산 할 수 있음.\n",
    "\n",
    "하는 방법은 normalize임. 많이 쓰는 normalize는 Standardization임. 정규화."
   ]
  },
  {
   "cell_type": "markdown",
   "metadata": {},
   "source": [
    "마지막으로 Overfitting은 머신러닝에서의 중요 논쟁점중 하나임.\n",
    "\n",
    "학습 데이터로 학습을 하기 때문에 너무 학습 데이터에 맞아버려서 학습 데이터와 비슷한 것들은 매우 잘 맞추지만 조금만 벗어나면 예측이 이상해져버리는 경우.<br>\n",
    "이거 약간 사람으로 비유해도 이런 부류의 사람들 있는거 생각해보면 머신러닝이 정말 사람 같긴 함.\n",
    "\n",
    "\n",
    "개념적으로 보자면 위 그림에서 보면 왼쪽이 일반적인 모델이고 오른쪽이 주어진 데이터에 overfitting된 모델임.\n",
    "\n",
    "overfitting을 줄이는 방법은\n",
    "1. More Training data\n",
    "2. Reduce the number of features\n",
    "3. Regularization\n",
    "\n",
    "요정도 여기서 기술적으로 알아둬야 할 부분은 3. Regularization 이다. 하는 방법 자체는 간단함\n",
    "\n",
    "\n",
    "위 처름 cost함수 뒤에 추가수식을 붙임. 약간 구부러진 함수를 펴주는 역할임. W는 변수고 앞에 문자는 regularization strength라고 부름<br>\n",
    "물론 구현은 라이브러리로 나와 있으니 간단하다."
   ]
  },
  {
   "cell_type": "code",
   "execution_count": null,
   "metadata": {},
   "outputs": [],
   "source": []
  }
 ],
 "metadata": {
  "kernelspec": {
   "display_name": "Python 3",
   "language": "python",
   "name": "python3"
  },
  "language_info": {
   "codemirror_mode": {
    "name": "ipython",
    "version": 3
   },
   "file_extension": ".py",
   "mimetype": "text/x-python",
   "name": "python",
   "nbconvert_exporter": "python",
   "pygments_lexer": "ipython3",
   "version": "3.7.4"
  }
 },
 "nbformat": 4,
 "nbformat_minor": 2
}

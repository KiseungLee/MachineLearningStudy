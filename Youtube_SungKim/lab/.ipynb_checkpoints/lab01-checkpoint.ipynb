{
 "cells": [
  {
   "cell_type": "code",
   "execution_count": 6,
   "metadata": {},
   "outputs": [
    {
     "data": {
      "text/plain": [
       "'2.0.0'"
      ]
     },
     "execution_count": 6,
     "metadata": {},
     "output_type": "execute_result"
    }
   ],
   "source": [
    "import tensorflow as tf\n",
    "\n",
    "tf.__version__"
   ]
  },
  {
   "cell_type": "code",
   "execution_count": 7,
   "metadata": {},
   "outputs": [],
   "source": [
    "# 강의에선 Graph 안만들고 바로 hellow world 찍었는데\n",
    "# TensorFlow 2.0에선 Graph를 수동으로 생성해 줘야함\n",
    "# g = tf.Graph() \n",
    "\n",
    "# 파이썬 문법 하나 짚고 가자.\n",
    "# with는 __enter__()와 __exit__()이 정의된 클래스에서 사용하면\n",
    "# 시작할때 __enter__()의 리턴값을 with ~~~ as ~~~ 에서 as 뒤에 설정해줌(물론 밑에는 아님)\n",
    "# 그리고 with가 끝날때 __exit__()을 무조건 실행해줌. C#에서 봤던 그거랑 비슷.\n",
    "\n",
    "# with g.as_default():   \n",
    "#    hello=tf.constant('Hello World!')\n",
    "    \n",
    "    "
   ]
  },
  {
   "cell_type": "code",
   "execution_count": 12,
   "metadata": {},
   "outputs": [
    {
     "name": "stdout",
     "output_type": "stream",
     "text": [
      "TensorFlow 2.0 Hello World\n",
      "b'TensorFlow 2.0 Hello World'\n"
     ]
    }
   ],
   "source": [
    "import tensorflow as tf\n",
    "msg = tf.constant('TensorFlow 2.0 Hello World')\n",
    "tf.print(msg)\n",
    "print(msg.numpy()) # b는 bytes literlas 라는 뜻."
   ]
  },
  {
   "cell_type": "code",
   "execution_count": 11,
   "metadata": {},
   "outputs": [
    {
     "data": {
      "text/plain": [
       "b'TensorFlow 2.0 Hello World'"
      ]
     },
     "execution_count": 11,
     "metadata": {},
     "output_type": "execute_result"
    }
   ],
   "source": []
  },
  {
   "cell_type": "code",
   "execution_count": null,
   "metadata": {},
   "outputs": [],
   "source": []
  }
 ],
 "metadata": {
  "kernelspec": {
   "display_name": "Python 3",
   "language": "python",
   "name": "python3"
  },
  "language_info": {
   "codemirror_mode": {
    "name": "ipython",
    "version": 3
   },
   "file_extension": ".py",
   "mimetype": "text/x-python",
   "name": "python",
   "nbconvert_exporter": "python",
   "pygments_lexer": "ipython3",
   "version": "3.7.4"
  }
 },
 "nbformat": 4,
 "nbformat_minor": 2
}

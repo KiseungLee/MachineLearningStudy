{
 "cells": [
  {
   "cell_type": "code",
   "execution_count": null,
   "metadata": {},
   "outputs": [],
   "source": [
    "# 여기선 분류를 알아볼꺼임.\n",
    "# 그런데 지금까지 배운 Linear Regression으론 분류를 할 수 없음.\n",
    "# 한정된 데이터에선 가능해도 범위가 달라지면 아예 다른 값들이 나오기 때문임\n",
    "# 그래서 분류에서 사용하는 기본 함수는 Sigmoid 함수임.\n",
    "\n",
    "# Linear Regression에서 기본이\n",
    "# H(X) = XW + b \n",
    "# 였다면\n",
    "\n",
    "# 분류의 기본인 Logistic Hypothesis 는\n",
    "# H(X) = 1/(1+e**(-XW))\n",
    "# 이거임. 이게 Sigmoid함수. \n",
    "# 쉽게말해 linear regression의 결과를 Sigmoid 함수에 넣어서 -1~1 범위로 줄이는 거임.\n",
    "\n",
    "# 이렇게 가설을 바꿨으면 다음 문제는 \n",
    "# 비용함수를 어떻게 처리할까이다. \n",
    "\n",
    "# Linear Regression의 비용함수를 그리면 깔끔한 2차함수가 나옴.\n",
    "# 근데 Logistic Regression을 Linear Regression 하듯이 하면 변곡점이 여러개 생김.\n",
    "# 전문적으로 말하자면 Non-Convex 함수가 되어버림. 로컬한 부분에서 멈출 수 있음.\n",
    "\n",
    "# 그래서 cost 함수도 바꿔야 한다. \n",
    "# c(H(X), y) = (y)*(-log(H(X))) + (y-1)*(-log(1-H(x)))\n",
    "# 이렇게 만들어줌. 직관적으로 설명하자면 Sigmoid의 분모인 지수함수를 풀어주는게 로그라는거임.\n",
    "\n",
    "# 최종 비용함수는\n",
    "# cost(W) = -1/m * 시그마((y)*(-log(H(X))) + (y-1)*(-log(1-H(x)))) 이정도가 되는거임. \n",
    "\n",
    "# 경사하강은 Linear Regression이랑 같음. \n",
    "# W = W - a*(비용함수 미분)\n",
    "\n"
   ]
  }
 ],
 "metadata": {
  "kernelspec": {
   "display_name": "Python 3",
   "language": "python",
   "name": "python3"
  },
  "language_info": {
   "codemirror_mode": {
    "name": "ipython",
    "version": 3
   },
   "file_extension": ".py",
   "mimetype": "text/x-python",
   "name": "python",
   "nbconvert_exporter": "python",
   "pygments_lexer": "ipython3",
   "version": "3.7.4"
  }
 },
 "nbformat": 4,
 "nbformat_minor": 2
}

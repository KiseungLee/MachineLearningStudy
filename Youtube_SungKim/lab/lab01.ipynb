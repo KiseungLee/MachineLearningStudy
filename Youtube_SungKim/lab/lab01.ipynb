{
 "cells": [
  {
   "cell_type": "code",
   "execution_count": 6,
   "metadata": {},
   "outputs": [
    {
     "data": {
      "text/plain": [
       "'2.0.0'"
      ]
     },
     "execution_count": 6,
     "metadata": {},
     "output_type": "execute_result"
    }
   ],
   "source": [
    "import tensorflow as tf\n",
    "\n",
    "tf.__version__"
   ]
  },
  {
   "cell_type": "code",
   "execution_count": 7,
   "metadata": {},
   "outputs": [],
   "source": [
    "# 강의에선 Graph 안만들고 바로 hellow world 찍었는데\n",
    "# TensorFlow 2.0에선 Graph를 수동으로 생성해 줘야함\n",
    "# g = tf.Graph() \n",
    "\n",
    "# 파이썬 문법 하나 짚고 가자.\n",
    "# with는 __enter__()와 __exit__()이 정의된 클래스에서 사용하면\n",
    "# 시작할때 __enter__()의 리턴값을 with ~~~ as ~~~ 에서 as 뒤에 설정해줌(물론 밑에는 아님)\n",
    "# 그리고 with가 끝날때 __exit__()을 무조건 실행해줌. C#에서 봤던 그거랑 비슷.\n",
    "\n",
    "# with g.as_default():   \n",
    "#    hello=tf.constant('Hello World!')\n",
    "    \n",
    "    "
   ]
  },
  {
   "cell_type": "code",
   "execution_count": 12,
   "metadata": {},
   "outputs": [
    {
     "name": "stdout",
     "output_type": "stream",
     "text": [
      "TensorFlow 2.0 Hello World\n",
      "b'TensorFlow 2.0 Hello World'\n"
     ]
    }
   ],
   "source": [
    "import tensorflow as tf\n",
    "msg = tf.constant('TensorFlow 2.0 Hello World')\n",
    "tf.print(msg)\n",
    "print(msg.numpy()) # b는 bytes literlas 라는 뜻."
   ]
  },
  {
   "cell_type": "code",
   "execution_count": 11,
   "metadata": {},
   "outputs": [
    {
     "data": {
      "text/plain": [
       "b'TensorFlow 2.0 Hello World'"
      ]
     },
     "execution_count": 11,
     "metadata": {},
     "output_type": "execute_result"
    }
   ],
   "source": []
  },
  {
   "cell_type": "code",
   "execution_count": 13,
   "metadata": {},
   "outputs": [],
   "source": [
    "# 노드 만들어서 더하기 하기\n",
    "\n",
    "node1 = tf.constant(3.0, tf.float32)\n",
    "node2 = tf.constant(4.0) # tf.float32 를 내포\n",
    "node3 = tf.add(node1, node2) # node3 = node1 + node2 라고 써도 됨"
   ]
  },
  {
   "cell_type": "code",
   "execution_count": 16,
   "metadata": {},
   "outputs": [
    {
     "name": "stdout",
     "output_type": "stream",
     "text": [
      "tf.Tensor(3.0, shape=(), dtype=float32)\n",
      "tf.Tensor(4.0, shape=(), dtype=float32)\n",
      "tf.Tensor(7.0, shape=(), dtype=float32)\n",
      "7.0\n"
     ]
    }
   ],
   "source": [
    "print(node1)\n",
    "print(node2)\n",
    "print(node3)\n",
    "print(node3.numpy())"
   ]
  },
  {
   "cell_type": "code",
   "execution_count": 17,
   "metadata": {},
   "outputs": [],
   "source": [
    "# 텐서플로우를 돌리는 기본은\n",
    "# 1. 그래프를 만들고\n",
    "# 2. 그래프를 실행시킨다. \n",
    "\n",
    "# 1.0대 버전에선 그래프 실행시킬때 Session 썼지만 2.0에선 없어짐."
   ]
  },
  {
   "cell_type": "code",
   "execution_count": 19,
   "metadata": {},
   "outputs": [
    {
     "ename": "AttributeError",
     "evalue": "module 'tensorflow' has no attribute 'placeholder'",
     "output_type": "error",
     "traceback": [
      "\u001b[1;31m---------------------------------------------------------------------------\u001b[0m",
      "\u001b[1;31mAttributeError\u001b[0m                            Traceback (most recent call last)",
      "\u001b[1;32m<ipython-input-19-1794e3a08454>\u001b[0m in \u001b[0;36m<module>\u001b[1;34m\u001b[0m\n\u001b[0;32m      1\u001b[0m \u001b[1;31m# 1 버전에선 됐으나 지금은 안됨. 아래\u001b[0m\u001b[1;33m\u001b[0m\u001b[1;33m\u001b[0m\u001b[1;33m\u001b[0m\u001b[0m\n\u001b[1;32m----> 2\u001b[1;33m \u001b[0ma\u001b[0m \u001b[1;33m=\u001b[0m \u001b[0mtf\u001b[0m\u001b[1;33m.\u001b[0m\u001b[0mplaceholder\u001b[0m\u001b[1;33m(\u001b[0m\u001b[0mtf\u001b[0m\u001b[1;33m.\u001b[0m\u001b[0mfloat32\u001b[0m\u001b[1;33m)\u001b[0m\u001b[1;33m\u001b[0m\u001b[1;33m\u001b[0m\u001b[0m\n\u001b[0m\u001b[0;32m      3\u001b[0m \u001b[0mb\u001b[0m \u001b[1;33m=\u001b[0m \u001b[0mtf\u001b[0m\u001b[1;33m.\u001b[0m\u001b[0mplaceholder\u001b[0m\u001b[1;33m(\u001b[0m\u001b[0mtf\u001b[0m\u001b[1;33m.\u001b[0m\u001b[0mfloat32\u001b[0m\u001b[1;33m)\u001b[0m\u001b[1;33m\u001b[0m\u001b[1;33m\u001b[0m\u001b[0m\n\u001b[0;32m      4\u001b[0m \u001b[0madder_node\u001b[0m \u001b[1;33m=\u001b[0m \u001b[0ma\u001b[0m \u001b[1;33m+\u001b[0m \u001b[0mb\u001b[0m  \u001b[1;31m# + provides a shortcut for tf.add(a, b)\u001b[0m\u001b[1;33m\u001b[0m\u001b[1;33m\u001b[0m\u001b[0m\n\u001b[0;32m      5\u001b[0m \u001b[1;33m\u001b[0m\u001b[0m\n",
      "\u001b[1;31mAttributeError\u001b[0m: module 'tensorflow' has no attribute 'placeholder'"
     ]
    }
   ],
   "source": [
    "# 1 버전에선 됐으나 지금은 안됨. 아래 \n",
    "# placeholder라는 노드가 있었는데 그래프 만들때 구조를 잡아놓고\n",
    "# Session run 할때 값을 넣을 수 있는 노드 였는데 없어짐..\n",
    "\n",
    "a = tf.placeholder(tf.float32)\n",
    "b = tf.placeholder(tf.float32)\n",
    "adder_node = a + b  # + provides a shortcut for tf.add(a, b)\n",
    "\n",
    "print(sess.run(adder_node, feed_dict={a: 3, b: 4.5}))\n",
    "print(sess.run(adder_node, feed_dict={a: [1,3], b: [2, 4]}))"
   ]
  },
  {
   "cell_type": "code",
   "execution_count": null,
   "metadata": {},
   "outputs": [],
   "source": []
  },
  {
   "cell_type": "markdown",
   "metadata": {},
   "source": [
    "Tensor Ranks, Shapes, Types\n",
    "\n",
    "Ranks = 차원 개념\n",
    "Scalar -> s = 341\n",
    "Vector -> v = [1.2, 2.2, 3]\n",
    "Matrix -> m = [[7,8,9],[4,5,6],[1,2,3]]\n",
    "3-Tensor ->\n",
    "n-Tensor ->\n",
    "\n",
    "Shapes\n",
    "각 엘리먼트에 몇개씩 있느냐. 원소 갯수라고 생각하면 됨.\n",
    "[] -> 0-D \n",
    "[D0] -> 1-D\n",
    "[Do, D1] -> 2-D\n",
    "\n",
    "ex) t = [[7,8,9],[4,5,6],[1,2,3]] 일때 Shapes은 [3, 3]\n",
    "\n",
    "Types\n",
    "DT_FLOAT -> tf.float32 : 제일 많이 씀\n",
    "DT_DOUBLE -> tf.float63\n",
    "DT_INT8 -> tf.int8\n",
    "DT_INT16 -> tf.int16\n",
    "DT_INT32 -> tf.int32\n",
    "DT_INT64 -> tf.int64"
   ]
  },
  {
   "cell_type": "code",
   "execution_count": null,
   "metadata": {},
   "outputs": [],
   "source": [
    "\n",
    "# https://www.tensorflow.org/guide/migrate \n",
    "# 1버전 -> 2버전 공식 문서"
   ]
  }
 ],
 "metadata": {
  "kernelspec": {
   "display_name": "Python 3",
   "language": "python",
   "name": "python3"
  },
  "language_info": {
   "codemirror_mode": {
    "name": "ipython",
    "version": 3
   },
   "file_extension": ".py",
   "mimetype": "text/x-python",
   "name": "python",
   "nbconvert_exporter": "python",
   "pygments_lexer": "ipython3",
   "version": "3.7.4"
  }
 },
 "nbformat": 4,
 "nbformat_minor": 2
}

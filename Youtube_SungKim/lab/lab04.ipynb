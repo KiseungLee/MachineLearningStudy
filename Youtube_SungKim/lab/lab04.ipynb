{
 "cells": [
  {
   "cell_type": "code",
   "execution_count": null,
   "metadata": {},
   "outputs": [],
   "source": [
    "# 다변수를 이용한 선형회귀를 배움.\n",
    "\n",
    "# 일단 3강까지의 방법으로 한번 구현해보고\n",
    "# ex) hypothesis = x1*w1 + x2*w2 + x3*w3 + b\n",
    "\n",
    "# 다음엔 행렬을 이용해 깔끔하게 구현해보자.\n",
    "# ex) hypothesis = WX+b\n",
    "\n"
   ]
  }
 ],
 "metadata": {
  "kernelspec": {
   "display_name": "Python 3",
   "language": "python",
   "name": "python3"
  },
  "language_info": {
   "codemirror_mode": {
    "name": "ipython",
    "version": 3
   },
   "file_extension": ".py",
   "mimetype": "text/x-python",
   "name": "python",
   "nbconvert_exporter": "python",
   "pygments_lexer": "ipython3",
   "version": "3.7.4"
  }
 },
 "nbformat": 4,
 "nbformat_minor": 2
}

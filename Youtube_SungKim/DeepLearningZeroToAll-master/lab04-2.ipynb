{
 "cells": [
  {
   "cell_type": "code",
   "execution_count": null,
   "metadata": {},
   "outputs": [],
   "source": [
    "# 여기선 파일에서 데이터 읽어오는걸 해보는 곳.\n",
    "\n",
    "# 보통 csv로 많이 다루며\n",
    "# 가져올땐 많은 방법이 있지만 numpy모듈에서 가져오는게 간단함.\n",
    "\n",
    "# 파이썬은 배열 슬라이싱 기능이 뛰어나니 잘 활용하시고.\n",
    "\n",
    "\n",
    "# 실제 학습 시키려면 방대한 데이터가 필요하다\n",
    "# 걔들을 전부 메모리에 올릴 수 있을까? 아니겠지 그러니\n",
    "# Queue Runners를 알아두자.\n",
    "# 여러파일로 나눠두면 차례대로 읽으면서 텐서플로가 알아서 메모리 관리하면서 데이터 넣어줌.\n",
    "\n",
    "# Queue Runners를 이용해 데이터를 넣고 학습시키는 것도 해보자.\n",
    "# Shuffle 기능도 있음."
   ]
  }
 ],
 "metadata": {
  "kernelspec": {
   "display_name": "Python 3",
   "language": "python",
   "name": "python3"
  },
  "language_info": {
   "codemirror_mode": {
    "name": "ipython",
    "version": 3
   },
   "file_extension": ".py",
   "mimetype": "text/x-python",
   "name": "python",
   "nbconvert_exporter": "python",
   "pygments_lexer": "ipython3",
   "version": "3.7.4"
  }
 },
 "nbformat": 4,
 "nbformat_minor": 2
}
